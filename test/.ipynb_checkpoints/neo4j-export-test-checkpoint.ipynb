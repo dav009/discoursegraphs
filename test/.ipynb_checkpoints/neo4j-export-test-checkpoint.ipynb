{
 "metadata": {
  "name": "",
  "signature": "sha256:d15c8e7f9925d0a6201ef9b7203099b4bb040249464ed12d2dda399e658c70dd"
 },
 "nbformat": 3,
 "nbformat_minor": 0,
 "worksheets": [
  {
   "cells": [
    {
     "cell_type": "code",
     "collapsed": false,
     "input": [
      "import os\n",
      "from discoursegraphs.readwrite import AnaphoraDocumentGraph\n",
      "\n",
      "ANAPHORA_TEST_FILEPATH = os.path.expanduser('~/repos/pcc-annis-merged/maz176/anaphora/tosik/es/maz-10902.txt')"
     ],
     "language": "python",
     "metadata": {},
     "outputs": [],
     "prompt_number": 9
    },
    {
     "cell_type": "code",
     "collapsed": false,
     "input": [
      "adg = AnaphoraDocumentGraph(ANAPHORA_TEST_FILEPATH)"
     ],
     "language": "python",
     "metadata": {},
     "outputs": [],
     "prompt_number": 12
    },
    {
     "cell_type": "code",
     "collapsed": false,
     "input": [
      "import neonx"
     ],
     "language": "python",
     "metadata": {},
     "outputs": [],
     "prompt_number": 16
    },
    {
     "cell_type": "code",
     "collapsed": false,
     "input": [
      "for node_id in adg:\n",
      "    adg.node[node_id]['layers'] = list(adg.node[node_id]['layers'])"
     ],
     "language": "python",
     "metadata": {},
     "outputs": [],
     "prompt_number": 25
    },
    {
     "cell_type": "code",
     "collapsed": false,
     "input": [
      "for (from_id, to_id) in adg.edges_iter():\n",
      "    edge_dict = adg.edge[from_id][to_id] # there might be multiple edges between 2 nodes\n",
      "    for edge_id in edge_dict:\n",
      "        edge_dict[edge_id]['layers'] = list(edge_dict[edge_id]['layers'])"
     ],
     "language": "python",
     "metadata": {},
     "outputs": [],
     "prompt_number": 35
    },
    {
     "cell_type": "code",
     "collapsed": false,
     "input": [
      "# neonx.get_geoff(adg, 'link_to')"
     ],
     "language": "python",
     "metadata": {},
     "outputs": [],
     "prompt_number": 39
    },
    {
     "cell_type": "code",
     "collapsed": false,
     "input": [
      "def make_json_encodable(discoursegraph):\n",
      "    \"\"\"\n",
      "    typecasts all `layers` sets to lists to make the graph\n",
      "    convertible into `geoff` format.\n",
      "    \"\"\"\n",
      "    for node_id in discoursegraph:\n",
      "        discoursegraph.node[node_id]['layers'] = list(discoursegraph.node[node_id]['layers'])\n",
      "    for (from_id, to_id) in adg.edges_iter():\n",
      "        edge_dict = adg.edge[from_id][to_id] # there might be multiple edges between 2 nodes\n",
      "        for edge_id in edge_dict:\n",
      "            edge_dict[edge_id]['layers'] = list(edge_dict[edge_id]['layers'])\n",
      "    "
     ],
     "language": "python",
     "metadata": {},
     "outputs": [],
     "prompt_number": 40
    },
    {
     "cell_type": "code",
     "collapsed": false,
     "input": [
      "results = neonx.write_to_neo(\"http://localhost:7474/db/data/\", adg, 'LINKS_TO')"
     ],
     "language": "python",
     "metadata": {},
     "outputs": [],
     "prompt_number": 42
    }
   ],
   "metadata": {}
  }
 ]
}