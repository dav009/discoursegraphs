{
 "metadata": {
  "name": "",
  "signature": "sha256:0abe4ea8c91abc969655d13a367d523e4dd025f4bffbe2af1134c80608603ead"
 },
 "nbformat": 3,
 "nbformat_minor": 0,
 "worksheets": [
  {
   "cells": [
    {
     "cell_type": "code",
     "collapsed": false,
     "input": [
      "import os\n",
      "import re\n",
      "from itertools import chain\n",
      "\n",
      "from discoursegraphs.io.tiger import TigerDocumentGraph\n",
      "from discoursegraphs.io.anaphoricity import AnaphoraDocumentGraph\n",
      "\n",
      "DOC_ID_REGEX = '\\d+'\n",
      "\n",
      "TIGER_DIR = os.path.expanduser('~/repos/pcc-annis-merged/maz176/syntax')\n",
      "DAS_DIR = os.path.expanduser('~/repos/pcc-annis-merged/maz176/anaphora/tosik/das')\n",
      "ES_DIR = os.path.expanduser('~/repos/pcc-annis-merged/maz176/anaphora/tosik/es')"
     ],
     "language": "python",
     "metadata": {},
     "outputs": [],
     "prompt_number": 11
    },
    {
     "cell_type": "code",
     "collapsed": false,
     "input": [
      "tiger_files = !ls $TIGER_DIR/*.xml\n",
      "das_files = !ls $DAS_DIR/*.txt\n",
      "es_files = !ls $ES_DIR/*.txt\n",
      "\n",
      "def get_doc_id(annotation_file_path):\n",
      "    \"\"\"\n",
      "    extracts the numerical document ID from the file name of an annotation file.\n",
      "    \n",
      "    Parameters\n",
      "    ----------\n",
      "    annotation_file_path : str\n",
      "        absolute or relative path to an annotation file\n",
      "        \n",
      "    Returns\n",
      "    -------\n",
      "    doc_id : str\n",
      "        the numerical document ID of the annotation file, e.g. '00001' or '14881'\n",
      "    \"\"\"\n",
      "    file_name = os.path.basename(annotation_file_path)\n",
      "    return re.search(DOC_ID_REGEX, file_name).group()\n",
      "\n",
      "def doc_id2tiger_filename(doc_id, tiger_dir):\n",
      "    \"\"\"\n",
      "    converts a numerical document ID into a Tiger file name (as it is used in PCC).\n",
      "    \"\"\"\n",
      "    return os.path.join(tiger_dir, 'syntax.maz-{}.xml'.format(doc_id))"
     ],
     "language": "python",
     "metadata": {},
     "outputs": [],
     "prompt_number": 2
    },
    {
     "cell_type": "markdown",
     "metadata": {},
     "source": [
      "For each anaphoricity file, there's one Tiger file:"
     ]
    },
    {
     "cell_type": "code",
     "collapsed": false,
     "input": [
      "all([os.path.isfile(doc_id2tiger_filename(doc_id, TIGER_DIR)) \n",
      "         for doc_id in (get_doc_id(fpath)\n",
      "            for fpath in tiger_files)])"
     ],
     "language": "python",
     "metadata": {},
     "outputs": [
      {
       "metadata": {},
       "output_type": "pyout",
       "prompt_number": 3,
       "text": [
        "True"
       ]
      }
     ],
     "prompt_number": 3
    },
    {
     "cell_type": "code",
     "collapsed": false,
     "input": [
      "ANAPHORICITY_TEST_FILE = os.path.expanduser('~/repos/pcc-annis-merged/maz176/anaphora/tosik/das/maz-10207.anaphora.das.txt')\n",
      "TIGER_TEST_FILE = doc_id2tiger_filename(get_doc_id(ANAPHORICITY_TEST_FILE), TIGER_DIR)\n",
      "\n",
      "adg = AnaphoraDocumentGraph(ANAPHORICITY_TEST_FILE)\n",
      "tdg = TigerDocumentGraph(TIGER_TEST_FILE)\n",
      "\n"
     ],
     "language": "python",
     "metadata": {},
     "outputs": [],
     "prompt_number": 4
    },
    {
     "cell_type": "markdown",
     "metadata": {},
     "source": [
      "# We need to ensure unicode in anaphoricity.py"
     ]
    },
    {
     "cell_type": "code",
     "collapsed": false,
     "input": [
      "all_token_node_ids = list(chain.from_iterable((tdg.node[root_id]['tokens']\n",
      "                                              for root_id in tdg.sentences)))\n",
      "\n",
      "for i, node_id in enumerate(adg.nodes_iter()):\n",
      "    if 'anaphoricity:token' in adg.node[node_id]['layers']:\n",
      "        anaphora_token = adg.node[node_id]['token']\n",
      "        tiger_token = tdg.node[all_token_node_ids[i]]['word']\n",
      "        if anaphora_token != tiger_token:\n",
      "            print \"tokens don't match: (anaphoricity) vs. (tiger)\"\n",
      "            print \"\\t\", anaphora_token, tiger_token\n",
      "            print \"\\t\", type(anaphora_token), type(tiger_token)\n",
      "    "
     ],
     "language": "python",
     "metadata": {},
     "outputs": [
      {
       "output_type": "stream",
       "stream": "stdout",
       "text": [
        "tokens don't match: (anaphoricity) vs. (tiger)\n",
        "\tSt\u00e4dte St\u00e4dte\n",
        "\t<type 'str'> <type 'unicode'>\n",
        "tokens don't match: (anaphoricity) vs. (tiger)\n",
        "\t\u00c4mtern \u00c4mtern\n",
        "\t<type 'str'> <type 'unicode'>\n",
        "tokens don't match: (anaphoricity) vs. (tiger)\n",
        "\tbest\u00e4tigt best\u00e4tigt\n",
        "\t<type 'str'> <type 'unicode'>\n",
        "tokens don't match: (anaphoricity) vs. (tiger)\n",
        "\tnat\u00fcrlich nat\u00fcrlich\n",
        "\t<type 'str'> <type 'unicode'>\n",
        "tokens don't match: (anaphoricity) vs. (tiger)\n",
        "\tM\u00f6glichkeit M\u00f6glichkeit\n",
        "\t<type 'str'> <type 'unicode'>\n",
        "tokens don't match: (anaphoricity) vs. (tiger)\n",
        "\tD\u00f6mnitzst\u00e4dter D\u00f6mnitzst\u00e4dter\n",
        "\t<type 'str'> <type 'unicode'>\n",
        "tokens don't match: (anaphoricity) vs. (tiger)\n",
        "\tgro\u00dfartigen gro\u00dfartigen\n",
        "\t<type 'str'> <type 'unicode'>\n",
        "tokens don't match: (anaphoricity) vs. (tiger)\n",
        "\tf\u00fcr f\u00fcr\n",
        "\t<type 'str'> <type 'unicode'>\n",
        "tokens don't match: (anaphoricity) vs. (tiger)\n",
        "\tVerh\u00e4ltnisse Verh\u00e4ltnisse\n",
        "\t<type 'str'> <type 'unicode'>\n",
        "tokens don't match: (anaphoricity) vs. (tiger)\n",
        "\tB\u00fcrgermeister B\u00fcrgermeister\n",
        "\t<type 'str'> <type 'unicode'>\n",
        "tokens don't match: (anaphoricity) vs. (tiger)\n",
        "\tB\u00fcrger B\u00fcrger\n",
        "\t<type 'str'> <type 'unicode'>\n",
        "tokens don't match: (anaphoricity) vs. (tiger)\n",
        "\tKontinuit\u00e4t Kontinuit\u00e4t\n",
        "\t<type 'str'> <type 'unicode'>\n",
        "tokens don't match: (anaphoricity) vs. (tiger)\n",
        "\tw\u00e4ren w\u00e4ren\n",
        "\t<type 'str'> <type 'unicode'>\n",
        "tokens don't match: (anaphoricity) vs. (tiger)\n",
        "\terf\u00fcllen erf\u00fcllen\n",
        "\t<type 'str'> <type 'unicode'>\n",
        "tokens don't match: (anaphoricity) vs. (tiger)\n",
        "\tAmtstr\u00e4ger Amtstr\u00e4ger\n",
        "\t<type 'str'> <type 'unicode'>\n",
        "tokens don't match: (anaphoricity) vs. (tiger)\n",
        "\tk\u00fcnftig k\u00fcnftig\n",
        "\t<type 'str'> <type 'unicode'>\n",
        "tokens don't match: (anaphoricity) vs. (tiger)\n",
        "\tweiterf\u00fchrende weiterf\u00fchrende\n",
        "\t<type 'str'> <type 'unicode'>\n"
       ]
      }
     ],
     "prompt_number": 37
    },
    {
     "cell_type": "code",
     "collapsed": false,
     "input": [],
     "language": "python",
     "metadata": {},
     "outputs": []
    }
   ],
   "metadata": {}
  }
 ]
}